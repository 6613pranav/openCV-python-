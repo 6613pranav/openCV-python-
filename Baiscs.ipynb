{
 "cells": [
  {
   "cell_type": "markdown",
   "metadata": {},
   "source": [
    "## openCV= open source computer vision\n",
    "   \n",
    "   * Is an image processing library \n",
    "   * created by intel\n",
    "   * Analyses image to produce useful data\n",
    "   * for eg. self driving car, facebook \n",
    "## Image vs matrix\n",
    "   * Images are stored in pixel-matrix\n",
    "    #### Two types of images\n",
    "      * grey scale image : each pixel shows the intensity of one shade how bright/ dark the image is.\n",
    "      * colored images  : Colored image has three channel R/G/B.(Standard camera has 3 channel)\n",
    "## Numpy\n",
    "     * As we are dealing with matrix we need numpy package to deal with it\n",
    "     * Numpy :- highly optimised library for numerical operations\n",
    "     * All the openCV array structure are converted to and from nump array \n",
    "     * "
   ]
  },
  {
   "cell_type": "markdown",
   "metadata": {},
   "source": [
    "## To install opencv on ubuntu\n",
    "   1. sudo apt update ( followed by password )\n",
    "   2. sudo apt install python3-pip\n",
    "   3. pip --version\n",
    "   4. pip install opencv-python( in jupyter command prompt )\n",
    "   "
   ]
  },
  {
   "cell_type": "code",
   "execution_count": 1,
   "metadata": {
    "scrolled": true
   },
   "outputs": [],
   "source": [
    "import cv2"
   ]
  },
  {
   "cell_type": "code",
   "execution_count": 2,
   "metadata": {},
   "outputs": [
    {
     "data": {
      "text/plain": [
       "'4.2.0'"
      ]
     },
     "execution_count": 2,
     "metadata": {},
     "output_type": "execute_result"
    }
   ],
   "source": [
    "cv2.__version__"
   ]
  },
  {
   "cell_type": "code",
   "execution_count": null,
   "metadata": {},
   "outputs": [],
   "source": []
  }
 ],
 "metadata": {
  "kernelspec": {
   "display_name": "Python 3",
   "language": "python",
   "name": "python3"
  },
  "language_info": {
   "codemirror_mode": {
    "name": "ipython",
    "version": 3
   },
   "file_extension": ".py",
   "mimetype": "text/x-python",
   "name": "python",
   "nbconvert_exporter": "python",
   "pygments_lexer": "ipython3",
   "version": "3.7.6"
  }
 },
 "nbformat": 4,
 "nbformat_minor": 4
}
