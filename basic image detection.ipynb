{
 "cells": [
  {
   "cell_type": "code",
   "execution_count": 24,
   "metadata": {},
   "outputs": [],
   "source": [
    "import cv2"
   ]
  },
  {
   "cell_type": "markdown",
   "metadata": {},
   "source": [
    "## How to capture live stream from camera"
   ]
  },
  {
   "cell_type": "markdown",
   "metadata": {},
   "source": [
    "#### Description of class VideoCapture\n",
    "  * Videocapture is a class of cv2 package\n",
    "  * It takes an arguement :- devide index for camera\n",
    "     * generally the device index is \"0\" if it shows error then we can also put '-1'\n",
    "     * for a device with multiple camera we can put 1 / 2 / 3 .. depending on the camera\n",
    "  * If we want to put  video file then we can also put the file path"
   ]
  },
  {
   "cell_type": "code",
   "execution_count": 25,
   "metadata": {},
   "outputs": [],
   "source": [
    "# cap is the object of Videocapture\n",
    "cap=cv2.VideoCapture(0)\n",
    "#cap2=cv2.VideoCapture(0)"
   ]
  },
  {
   "cell_type": "code",
   "execution_count": 26,
   "metadata": {},
   "outputs": [],
   "source": [
    "#cap"
   ]
  },
  {
   "cell_type": "code",
   "execution_count": 27,
   "metadata": {},
   "outputs": [],
   "source": [
    "#cap2"
   ]
  },
  {
   "cell_type": "markdown",
   "metadata": {},
   "source": [
    "### the function flip()\n",
    "   * takes two arguement\n",
    "       1. frame\n",
    "       2. 1 or 0  ( 1 means flip left to right , 0 means flip upside down )\n",
    "\n",
    "\n",
    "\n",
    "###  The function read()\n",
    "  * It returns two object \n",
    "     1. true/ false in the first variable(which tells us that video is captured or not\n",
    "     2. The video -> frame by frame (while loop)\n",
    "\n",
    "### The imshow function\n",
    "   * Takes two arguement \n",
    "      1. Name of the frame we want to display \n",
    "      2. The frame captured by the function read\n",
    "      \n",
    "### To get out of loop\n",
    "   * we have cv2.waitkey()\n",
    "       * this function returns -1 when no key is pressed from key board \n",
    "       * In 64 bit system this function returns the ASCII value of key pressed from the keyboard\n",
    "       * Since 8 bit is enough to represent a character so we need to mask the last 8 bit by doing bitwise and (&) with 0xFF which gives the only last 8 bit of the character pressed \n",
    "       * The method ord('character') gives the 8 bit ASCII value of the character placed \n",
    "### after getting out of loop \n",
    "   * use release keyword to release the resourses\n",
    "   * if not done then it may lead to unnecessary conflits between \n",
    "          new and old object created\n"
   ]
  },
  {
   "cell_type": "code",
   "execution_count": 28,
   "metadata": {},
   "outputs": [],
   "source": [
    "while(True):\n",
    "    ret,frame=cap.read()\n",
    "    \n",
    "    flip_left_to_right=cv2.flip(frame,1)\n",
    "    \n",
    "    cv2.imshow('my frame',flip_left_to_right)\n",
    "    \n",
    "   # flip_up_down=cv2.flip(frame,0)\n",
    "   # cv2.imshow('my frame', flip_up_down)\n",
    "   \n",
    "    # print(ret)\n",
    "    a=cv2.waitKey(1)\n",
    "    if a & 0xFF == ord('q'):\n",
    "        break\n",
    "cap.release()\n",
    "cv2.destroyAllWindows()"
   ]
  },
  {
   "cell_type": "code",
   "execution_count": 37,
   "metadata": {},
   "outputs": [
    {
     "data": {
      "text/plain": [
       "113"
      ]
     },
     "execution_count": 37,
     "metadata": {},
     "output_type": "execute_result"
    }
   ],
   "source": [
    "ord('q')"
   ]
  },
  {
   "cell_type": "code",
   "execution_count": 38,
   "metadata": {},
   "outputs": [
    {
     "data": {
      "text/plain": [
       "255"
      ]
     },
     "execution_count": 38,
     "metadata": {},
     "output_type": "execute_result"
    }
   ],
   "source": [
    "0xFF"
   ]
  }
 ],
 "metadata": {
  "kernelspec": {
   "display_name": "Python 3",
   "language": "python",
   "name": "python3"
  },
  "language_info": {
   "codemirror_mode": {
    "name": "ipython",
    "version": 3
   },
   "file_extension": ".py",
   "mimetype": "text/x-python",
   "name": "python",
   "nbconvert_exporter": "python",
   "pygments_lexer": "ipython3",
   "version": "3.7.6"
  }
 },
 "nbformat": 4,
 "nbformat_minor": 4
}
